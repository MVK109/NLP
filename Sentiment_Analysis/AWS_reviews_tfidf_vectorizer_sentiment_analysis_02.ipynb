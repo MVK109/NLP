{
 "cells": [
  {
   "cell_type": "markdown",
   "id": "15ebe04e",
   "metadata": {},
   "source": [
    "# Importing the required libraries"
   ]
  },
  {
   "cell_type": "code",
   "execution_count": 1,
   "id": "89c6190e",
   "metadata": {},
   "outputs": [
    {
     "name": "stderr",
     "output_type": "stream",
     "text": [
      "Warming up PyWSD (takes ~10 secs)... took 4.044273138046265 secs.\n"
     ]
    }
   ],
   "source": [
    "import pandas as pd\n",
    "import numpy as np\n",
    "import os\n",
    "import re\n",
    "import random\n",
    "import pandas as pd\n",
    "import functools\n",
    "from nltk.tokenize import sent_tokenize\n",
    "from pywsd.utils import lemmatize_sentence\n",
    "from sklearn.feature_extraction.text import TfidfVectorizer\n",
    "from sklearn.preprocessing import LabelEncoder\n",
    "from sklearn.ensemble import GradientBoostingClassifier\n",
    "from sklearn.ensemble import RandomForestClassifier\n",
    "from sklearn.naive_bayes import MultinomialNB\n",
    "from sklearn.model_selection import train_test_split\n",
    "from sklearn.metrics import accuracy_score,classification_report,confusion_matrix,f1_score\n",
    "\n"
   ]
  },
  {
   "cell_type": "markdown",
   "id": "cbbe194f",
   "metadata": {},
   "source": [
    "# Taking a chunk of file and reading the chunk"
   ]
  },
  {
   "cell_type": "code",
   "execution_count": 2,
   "id": "1095f036",
   "metadata": {},
   "outputs": [],
   "source": [
    "chunk_iter = pd.read_csv(\"D:/QTInternship/aws_review_sofware_dataset/aws_review_sofware_dataset.csv\",chunksize=20000)\n",
    "\n",
    "#chunk_iter = pd.read_csv('your_file.csv', chunksize=1000)\n",
    "df = next(chunk_iter)  # Read the first chunk"
   ]
  },
  {
   "cell_type": "code",
   "execution_count": 3,
   "id": "1d93b25f",
   "metadata": {},
   "outputs": [
    {
     "data": {
      "text/plain": [
       "Index(['Unnamed: 0', 'overall', 'verified', 'reviewTime', 'reviewerID', 'asin',\n",
       "       'style', 'reviewerName', 'reviewText', 'summary', 'unixReviewTime',\n",
       "       'vote', 'image'],\n",
       "      dtype='object')"
      ]
     },
     "execution_count": 3,
     "metadata": {},
     "output_type": "execute_result"
    }
   ],
   "source": [
    "df.columns"
   ]
  },
  {
   "cell_type": "code",
   "execution_count": 4,
   "id": "2ae64fbd",
   "metadata": {},
   "outputs": [],
   "source": [
    "df[\"words\"]=\"default value\"\n",
    "df[\"sentences\"]=\"default value\"\n",
    "\n",
    "\n",
    "for i in range(df.shape[0]):\n",
    "    df.at[i,\"words\"]= list(\"\")\n",
    "    df.at[i,\"sentences\"] = list(\"\")"
   ]
  },
  {
   "cell_type": "code",
   "execution_count": 5,
   "id": "8d5eb2d3",
   "metadata": {},
   "outputs": [],
   "source": [
    "for i in range(df.shape[0]):\n",
    "    l1= sent_tokenize(str(df.loc[i,\"reviewText\"]))\n",
    "    df.at[i,\"sentences\"]=l1"
   ]
  },
  {
   "cell_type": "code",
   "execution_count": 6,
   "id": "b1c11ec7",
   "metadata": {},
   "outputs": [],
   "source": [
    "for k in range(df.shape[0]):\n",
    "    df.at[k,\"words\"]=list(\"\")\n",
    "    for j in range(len(df.loc[k,\"sentences\"])):\n",
    "        df.at[k,\"words\"].extend(lemmatize_sentence(df.loc[k,\"sentences\"][j]))"
   ]
  },
  {
   "cell_type": "code",
   "execution_count": 7,
   "id": "cd9930af",
   "metadata": {},
   "outputs": [],
   "source": [
    "df[\"words_sentences\"] = \"default\""
   ]
  },
  {
   "cell_type": "code",
   "execution_count": 8,
   "id": "685cb8f0",
   "metadata": {},
   "outputs": [],
   "source": [
    "for k in range(df.shape[0]):\n",
    "    df.loc[k,\"words_sentences\"]=functools.reduce(lambda a,b: str(a)+str(\" \")+str(b), df.loc[k,\"words\"])"
   ]
  },
  {
   "cell_type": "code",
   "execution_count": 9,
   "id": "49faec32",
   "metadata": {},
   "outputs": [],
   "source": [
    "tfidf_vectorizer = TfidfVectorizer(stop_words='english')\n",
    "tfidf_matrix = tfidf_vectorizer.fit_transform(df.words_sentences)"
   ]
  },
  {
   "cell_type": "markdown",
   "id": "c827906b",
   "metadata": {},
   "source": [
    "# Splitting the data and Encoding the target variable\n"
   ]
  },
  {
   "cell_type": "code",
   "execution_count": 10,
   "id": "5ed80062",
   "metadata": {},
   "outputs": [],
   "source": [
    "dense = pd.DataFrame(tfidf_matrix.todense(), columns=tfidf_vectorizer.get_feature_names_out())"
   ]
  },
  {
   "cell_type": "code",
   "execution_count": 11,
   "id": "e4a57199",
   "metadata": {},
   "outputs": [],
   "source": [
    "df_y=df[\"verified\"]"
   ]
  },
  {
   "cell_type": "code",
   "execution_count": 12,
   "id": "a54bc793",
   "metadata": {},
   "outputs": [],
   "source": [
    "le=LabelEncoder()"
   ]
  },
  {
   "cell_type": "code",
   "execution_count": 13,
   "id": "9d9febc3",
   "metadata": {},
   "outputs": [],
   "source": [
    "df_y_1=pd.DataFrame(df_y)"
   ]
  },
  {
   "cell_type": "code",
   "execution_count": 14,
   "id": "ec07ec82",
   "metadata": {},
   "outputs": [],
   "source": [
    "df_y_enc=df_y_1.apply(le.fit_transform)"
   ]
  },
  {
   "cell_type": "code",
   "execution_count": 15,
   "id": "305093dc",
   "metadata": {},
   "outputs": [
    {
     "data": {
      "text/html": [
       "<div>\n",
       "<style scoped>\n",
       "    .dataframe tbody tr th:only-of-type {\n",
       "        vertical-align: middle;\n",
       "    }\n",
       "\n",
       "    .dataframe tbody tr th {\n",
       "        vertical-align: top;\n",
       "    }\n",
       "\n",
       "    .dataframe thead th {\n",
       "        text-align: right;\n",
       "    }\n",
       "</style>\n",
       "<table border=\"1\" class=\"dataframe\">\n",
       "  <thead>\n",
       "    <tr style=\"text-align: right;\">\n",
       "      <th></th>\n",
       "      <th>verified</th>\n",
       "    </tr>\n",
       "  </thead>\n",
       "  <tbody>\n",
       "    <tr>\n",
       "      <th>0</th>\n",
       "      <td>1</td>\n",
       "    </tr>\n",
       "    <tr>\n",
       "      <th>1</th>\n",
       "      <td>1</td>\n",
       "    </tr>\n",
       "    <tr>\n",
       "      <th>2</th>\n",
       "      <td>1</td>\n",
       "    </tr>\n",
       "    <tr>\n",
       "      <th>3</th>\n",
       "      <td>1</td>\n",
       "    </tr>\n",
       "    <tr>\n",
       "      <th>4</th>\n",
       "      <td>0</td>\n",
       "    </tr>\n",
       "  </tbody>\n",
       "</table>\n",
       "</div>"
      ],
      "text/plain": [
       "   verified\n",
       "0         1\n",
       "1         1\n",
       "2         1\n",
       "3         1\n",
       "4         0"
      ]
     },
     "execution_count": 15,
     "metadata": {},
     "output_type": "execute_result"
    }
   ],
   "source": [
    "df_y_enc.head(5)"
   ]
  },
  {
   "cell_type": "markdown",
   "id": "e703fb3e",
   "metadata": {},
   "source": [
    "# Splitting the data into Train and Test data"
   ]
  },
  {
   "cell_type": "code",
   "execution_count": 16,
   "id": "243c95fa",
   "metadata": {},
   "outputs": [],
   "source": [
    "X_Train,X_Test,Y_Train,Y_Test = train_test_split(dense,df_y_enc,test_size=0.3,random_state=45,stratify=df_y_enc)\n"
   ]
  },
  {
   "cell_type": "markdown",
   "id": "45a46882",
   "metadata": {},
   "source": [
    "# Model Building"
   ]
  },
  {
   "cell_type": "code",
   "execution_count": 17,
   "id": "939414d4",
   "metadata": {},
   "outputs": [
    {
     "name": "stderr",
     "output_type": "stream",
     "text": [
      "C:\\Users\\lavanya\\AppData\\Local\\Temp\\ipykernel_28932\\2880767766.py:2: DataConversionWarning: A column-vector y was passed when a 1d array was expected. Please change the shape of y to (n_samples,), for example using ravel().\n",
      "  RFC.fit(X_Train, Y_Train)\n"
     ]
    },
    {
     "name": "stdout",
     "output_type": "stream",
     "text": [
      "Accuracy of Training data is: 1.00\n",
      "[[9571    7]\n",
      " [   0 4422]]\n",
      "Classification Report:\n",
      "              precision    recall  f1-score   support\n",
      "\n",
      "           0       1.00      1.00      1.00      9578\n",
      "           1       1.00      1.00      1.00      4422\n",
      "\n",
      "    accuracy                           1.00     14000\n",
      "   macro avg       1.00      1.00      1.00     14000\n",
      "weighted avg       1.00      1.00      1.00     14000\n",
      "\n",
      "Accuracy of Test data is: 0.79\n",
      "[[3832  273]\n",
      " [ 958  937]]\n",
      "Classification Report:\n",
      "              precision    recall  f1-score   support\n",
      "\n",
      "           0       0.80      0.93      0.86      4105\n",
      "           1       0.77      0.49      0.60      1895\n",
      "\n",
      "    accuracy                           0.79      6000\n",
      "   macro avg       0.79      0.71      0.73      6000\n",
      "weighted avg       0.79      0.79      0.78      6000\n",
      "\n"
     ]
    }
   ],
   "source": [
    "RFC = RandomForestClassifier(random_state=45,n_estimators=1000)\n",
    "RFC.fit(X_Train, Y_Train)\n",
    "\n",
    "Y_pred_Train=RFC.predict(X_Train)\n",
    "accuracy_train = accuracy_score(Y_Train, Y_pred_Train)\n",
    "print(f\"Accuracy of Training data is: {accuracy_train:.2f}\")\n",
    "\n",
    "print(confusion_matrix(Y_Train,Y_pred_Train))\n",
    "\n",
    "# Generate a classification report\n",
    "report = classification_report(Y_Train, Y_pred_Train)\n",
    "print(f\"Classification Report:\\n{report}\")\n",
    "\n",
    "\n",
    "\n",
    "Y_pred_Test=RFC.predict(X_Test)\n",
    "accuracy_test = accuracy_score(Y_Test, Y_pred_Test)\n",
    "print(f\"Accuracy of Test data is: {accuracy_test:.2f}\")\n",
    "\n",
    "print(confusion_matrix(Y_Test,Y_pred_Test))\n",
    "\n",
    "# Generate a classification report\n",
    "report = classification_report(Y_Test, Y_pred_Test)\n",
    "print(f\"Classification Report:\\n{report}\")"
   ]
  },
  {
   "cell_type": "code",
   "execution_count": 18,
   "id": "025f0606",
   "metadata": {},
   "outputs": [
    {
     "name": "stderr",
     "output_type": "stream",
     "text": [
      "C:\\Users\\lavanya\\anaconda3\\envs\\py39_with_tf_cpu\\lib\\site-packages\\sklearn\\utils\\validation.py:1143: DataConversionWarning: A column-vector y was passed when a 1d array was expected. Please change the shape of y to (n_samples, ), for example using ravel().\n",
      "  y = column_or_1d(y, warn=True)\n"
     ]
    },
    {
     "name": "stdout",
     "output_type": "stream",
     "text": [
      "Accuracy of Training data is: 0.71\n",
      "[[9542   36]\n",
      " [3963  459]]\n",
      "Classification Report:\n",
      "              precision    recall  f1-score   support\n",
      "\n",
      "           0       0.71      1.00      0.83      9578\n",
      "           1       0.93      0.10      0.19      4422\n",
      "\n",
      "    accuracy                           0.71     14000\n",
      "   macro avg       0.82      0.55      0.51     14000\n",
      "weighted avg       0.78      0.71      0.62     14000\n",
      "\n",
      "Accuracy of Test data is: 0.71\n",
      "[[4082   23]\n",
      " [1745  150]]\n",
      "Classification Report:\n",
      "              precision    recall  f1-score   support\n",
      "\n",
      "           0       0.70      0.99      0.82      4105\n",
      "           1       0.87      0.08      0.15      1895\n",
      "\n",
      "    accuracy                           0.71      6000\n",
      "   macro avg       0.78      0.54      0.48      6000\n",
      "weighted avg       0.75      0.71      0.61      6000\n",
      "\n"
     ]
    }
   ],
   "source": [
    "MNB = MultinomialNB()\n",
    "MNB.fit(X_Train, Y_Train)\n",
    "\n",
    "Y_pred_Train=MNB.predict(X_Train)\n",
    "accuracy_train = accuracy_score(Y_Train, Y_pred_Train)\n",
    "print(f\"Accuracy of Training data is: {accuracy_train:.2f}\")\n",
    "\n",
    "print(confusion_matrix(Y_Train,Y_pred_Train))\n",
    "\n",
    "# Generate a classification report\n",
    "report = classification_report(Y_Train, Y_pred_Train)\n",
    "print(f\"Classification Report:\\n{report}\")\n",
    "\n",
    "Y_pred_Test=MNB.predict(X_Test)\n",
    "accuracy_test = accuracy_score(Y_Test, Y_pred_Test)\n",
    "print(f\"Accuracy of Test data is: {accuracy_test:.2f}\")\n",
    "\n",
    "print(confusion_matrix(Y_Test,Y_pred_Test))\n",
    "\n",
    "# Generate a classification report\n",
    "report = classification_report(Y_Test, Y_pred_Test)\n",
    "print(f\"Classification Report:\\n{report}\")"
   ]
  },
  {
   "cell_type": "code",
   "execution_count": 19,
   "id": "13ae1365",
   "metadata": {},
   "outputs": [
    {
     "name": "stderr",
     "output_type": "stream",
     "text": [
      "C:\\Users\\lavanya\\anaconda3\\envs\\py39_with_tf_cpu\\lib\\site-packages\\sklearn\\ensemble\\_gb.py:437: DataConversionWarning: A column-vector y was passed when a 1d array was expected. Please change the shape of y to (n_samples, ), for example using ravel().\n",
      "  y = column_or_1d(y, warn=True)\n"
     ]
    },
    {
     "name": "stdout",
     "output_type": "stream",
     "text": [
      "Accuracy of Training data is: 0.78\n",
      "[[9205  373]\n",
      " [2684 1738]]\n",
      "Classification Report:\n",
      "              precision    recall  f1-score   support\n",
      "\n",
      "           0       0.77      0.96      0.86      9578\n",
      "           1       0.82      0.39      0.53      4422\n",
      "\n",
      "    accuracy                           0.78     14000\n",
      "   macro avg       0.80      0.68      0.69     14000\n",
      "weighted avg       0.79      0.78      0.75     14000\n",
      "\n",
      "Accuracy of Test data is: 0.76\n",
      "[[3896  209]\n",
      " [1209  686]]\n",
      "Classification Report:\n",
      "              precision    recall  f1-score   support\n",
      "\n",
      "           0       0.76      0.95      0.85      4105\n",
      "           1       0.77      0.36      0.49      1895\n",
      "\n",
      "    accuracy                           0.76      6000\n",
      "   macro avg       0.76      0.66      0.67      6000\n",
      "weighted avg       0.76      0.76      0.73      6000\n",
      "\n"
     ]
    }
   ],
   "source": [
    "modelgbc = GradientBoostingClassifier(random_state=45,n_estimators=100)\n",
    "modelgbc.fit(X_Train, Y_Train)\n",
    "\n",
    "Y_pred_Train=modelgbc.predict(X_Train)\n",
    "accuracy_train = accuracy_score(Y_Train, Y_pred_Train)\n",
    "print(f\"Accuracy of Training data is: {accuracy_train:.2f}\")\n",
    "\n",
    "print(confusion_matrix(Y_Train,Y_pred_Train))\n",
    "\n",
    "# Generate a classification report\n",
    "report = classification_report(Y_Train, Y_pred_Train)\n",
    "print(f\"Classification Report:\\n{report}\")\n",
    "\n",
    "Y_pred_Test=modelgbc.predict(X_Test)\n",
    "accuracy_test = accuracy_score(Y_Test, Y_pred_Test)\n",
    "print(f\"Accuracy of Test data is: {accuracy_test:.2f}\")\n",
    "\n",
    "print(confusion_matrix(Y_Test,Y_pred_Test))\n",
    "\n",
    "# Generate a classification report\n",
    "report = classification_report(Y_Test, Y_pred_Test)\n",
    "print(f\"Classification Report:\\n{report}\")"
   ]
  },
  {
   "cell_type": "code",
   "execution_count": 20,
   "id": "1e64e815",
   "metadata": {},
   "outputs": [],
   "source": [
    "from sklearn.model_selection import StratifiedKFold, cross_val_score\n",
    "skf = StratifiedKFold(n_splits=5)  # n_splits defines the number of folds\n"
   ]
  },
  {
   "cell_type": "code",
   "execution_count": 21,
   "id": "2ee9722d",
   "metadata": {},
   "outputs": [],
   "source": [
    "model = RandomForestClassifier(random_state=45,n_estimators=1000)"
   ]
  },
  {
   "cell_type": "code",
   "execution_count": 22,
   "id": "44a3d180",
   "metadata": {},
   "outputs": [
    {
     "name": "stderr",
     "output_type": "stream",
     "text": [
      "C:\\Users\\lavanya\\anaconda3\\envs\\py39_with_tf_cpu\\lib\\site-packages\\sklearn\\model_selection\\_validation.py:686: DataConversionWarning: A column-vector y was passed when a 1d array was expected. Please change the shape of y to (n_samples,), for example using ravel().\n",
      "  estimator.fit(X_train, y_train, **fit_params)\n",
      "C:\\Users\\lavanya\\anaconda3\\envs\\py39_with_tf_cpu\\lib\\site-packages\\sklearn\\model_selection\\_validation.py:686: DataConversionWarning: A column-vector y was passed when a 1d array was expected. Please change the shape of y to (n_samples,), for example using ravel().\n",
      "  estimator.fit(X_train, y_train, **fit_params)\n",
      "C:\\Users\\lavanya\\anaconda3\\envs\\py39_with_tf_cpu\\lib\\site-packages\\sklearn\\model_selection\\_validation.py:686: DataConversionWarning: A column-vector y was passed when a 1d array was expected. Please change the shape of y to (n_samples,), for example using ravel().\n",
      "  estimator.fit(X_train, y_train, **fit_params)\n",
      "C:\\Users\\lavanya\\anaconda3\\envs\\py39_with_tf_cpu\\lib\\site-packages\\sklearn\\model_selection\\_validation.py:686: DataConversionWarning: A column-vector y was passed when a 1d array was expected. Please change the shape of y to (n_samples,), for example using ravel().\n",
      "  estimator.fit(X_train, y_train, **fit_params)\n",
      "C:\\Users\\lavanya\\anaconda3\\envs\\py39_with_tf_cpu\\lib\\site-packages\\sklearn\\model_selection\\_validation.py:686: DataConversionWarning: A column-vector y was passed when a 1d array was expected. Please change the shape of y to (n_samples,), for example using ravel().\n",
      "  estimator.fit(X_train, y_train, **fit_params)\n"
     ]
    },
    {
     "name": "stdout",
     "output_type": "stream",
     "text": [
      "Cross-validation scores: [0.8115  0.781   0.787   0.737   0.76825]\n"
     ]
    }
   ],
   "source": [
    "scores = cross_val_score(model,dense,df_y_enc,cv=skf)\n",
    "print(f'Cross-validation scores: {scores}')\n",
    "\n"
   ]
  },
  {
   "cell_type": "code",
   "execution_count": 23,
   "id": "06e945a3",
   "metadata": {},
   "outputs": [
    {
     "name": "stdout",
     "output_type": "stream",
     "text": [
      "Average Cross Validation score is: 0.77695\n"
     ]
    }
   ],
   "source": [
    "print(f'Average Cross Validation score is: {np.mean(scores)}')"
   ]
  },
  {
   "cell_type": "code",
   "execution_count": null,
   "id": "67c059c1",
   "metadata": {},
   "outputs": [],
   "source": []
  }
 ],
 "metadata": {
  "kernelspec": {
   "display_name": "Python 3 (ipykernel)",
   "language": "python",
   "name": "python3"
  },
  "language_info": {
   "codemirror_mode": {
    "name": "ipython",
    "version": 3
   },
   "file_extension": ".py",
   "mimetype": "text/x-python",
   "name": "python",
   "nbconvert_exporter": "python",
   "pygments_lexer": "ipython3",
   "version": "3.9.16"
  }
 },
 "nbformat": 4,
 "nbformat_minor": 5
}
