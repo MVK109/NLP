{
 "cells": [
  {
   "cell_type": "markdown",
   "id": "15ebe04e",
   "metadata": {},
   "source": [
    "# Importing the required libraries"
   ]
  },
  {
   "cell_type": "code",
   "execution_count": 1,
   "id": "89c6190e",
   "metadata": {},
   "outputs": [
    {
     "name": "stderr",
     "output_type": "stream",
     "text": [
      "Warming up PyWSD (takes ~10 secs)... took 6.484971761703491 secs.\n"
     ]
    }
   ],
   "source": [
    "import pandas as pd\n",
    "import numpy as np\n",
    "import os\n",
    "import re\n",
    "import random\n",
    "import pandas as pd\n",
    "import functools\n",
    "from nltk.tokenize import sent_tokenize\n",
    "from pywsd.utils import lemmatize_sentence\n",
    "from sklearn.feature_extraction.text import TfidfVectorizer\n",
    "from sklearn.preprocessing import LabelEncoder\n",
    "from sklearn.ensemble import GradientBoostingClassifier\n",
    "from sklearn.ensemble import RandomForestClassifier\n",
    "from sklearn.naive_bayes import MultinomialNB\n",
    "from sklearn.model_selection import train_test_split\n",
    "from sklearn.metrics import accuracy_score,classification_report,confusion_matrix,f1_score\n",
    "\n"
   ]
  },
  {
   "cell_type": "markdown",
   "id": "cbbe194f",
   "metadata": {},
   "source": [
    "# Taking a chunk of file and reading the chunk"
   ]
  },
  {
   "cell_type": "code",
   "execution_count": 2,
   "id": "1095f036",
   "metadata": {},
   "outputs": [],
   "source": [
    "chunk_iter = pd.read_csv(\"D:/QTInternship/aws_review_sofware_dataset/aws_review_sofware_dataset.csv\",chunksize=10000)\n",
    "\n",
    "#chunk_iter = pd.read_csv('your_file.csv', chunksize=1000)\n",
    "df = next(chunk_iter)  # Read the first chunk"
   ]
  },
  {
   "cell_type": "code",
   "execution_count": 3,
   "id": "1d93b25f",
   "metadata": {},
   "outputs": [
    {
     "data": {
      "text/plain": [
       "Index(['Unnamed: 0', 'overall', 'verified', 'reviewTime', 'reviewerID', 'asin',\n",
       "       'style', 'reviewerName', 'reviewText', 'summary', 'unixReviewTime',\n",
       "       'vote', 'image'],\n",
       "      dtype='object')"
      ]
     },
     "execution_count": 3,
     "metadata": {},
     "output_type": "execute_result"
    }
   ],
   "source": [
    "df.columns"
   ]
  },
  {
   "cell_type": "code",
   "execution_count": 4,
   "id": "2ae64fbd",
   "metadata": {},
   "outputs": [],
   "source": [
    "df[\"words\"]=\"default value\"\n",
    "df[\"sentences\"]=\"default value\"\n",
    "\n",
    "\n",
    "for i in range(df.shape[0]):\n",
    "    df.at[i,\"words\"]= list(\"\")\n",
    "    df.at[i,\"sentences\"] = list(\"\")"
   ]
  },
  {
   "cell_type": "code",
   "execution_count": 5,
   "id": "8d5eb2d3",
   "metadata": {},
   "outputs": [],
   "source": [
    "for i in range(df.shape[0]):\n",
    "    l1= sent_tokenize(str(df.loc[i,\"reviewText\"]))\n",
    "    df.at[i,\"sentences\"]=l1"
   ]
  },
  {
   "cell_type": "code",
   "execution_count": 6,
   "id": "b1c11ec7",
   "metadata": {},
   "outputs": [],
   "source": [
    "for k in range(df.shape[0]):\n",
    "    df.at[k,\"words\"]=list(\"\")\n",
    "    for j in range(len(df.loc[k,\"sentences\"])):\n",
    "        df.at[k,\"words\"].extend(lemmatize_sentence(df.loc[k,\"sentences\"][j]))"
   ]
  },
  {
   "cell_type": "code",
   "execution_count": 7,
   "id": "cd9930af",
   "metadata": {},
   "outputs": [],
   "source": [
    "df[\"words_sentences\"] = \"default\""
   ]
  },
  {
   "cell_type": "code",
   "execution_count": 8,
   "id": "685cb8f0",
   "metadata": {},
   "outputs": [],
   "source": [
    "for k in range(df.shape[0]):\n",
    "    df.loc[k,\"words_sentences\"]=functools.reduce(lambda a,b: str(a)+str(\" \")+str(b), df.loc[k,\"words\"])"
   ]
  },
  {
   "cell_type": "code",
   "execution_count": 9,
   "id": "49faec32",
   "metadata": {},
   "outputs": [],
   "source": [
    "tfidf_vectorizer = TfidfVectorizer(stop_words='english')\n",
    "tfidf_matrix = tfidf_vectorizer.fit_transform(df.words_sentences)"
   ]
  },
  {
   "cell_type": "markdown",
   "id": "c827906b",
   "metadata": {},
   "source": [
    "# Splitting the data and Encoding the target variable\n"
   ]
  },
  {
   "cell_type": "code",
   "execution_count": 11,
   "id": "5ed80062",
   "metadata": {},
   "outputs": [],
   "source": [
    "dense = pd.DataFrame(tfidf_matrix.todense(), columns=tfidf_vectorizer.get_feature_names_out())"
   ]
  },
  {
   "cell_type": "code",
   "execution_count": 13,
   "id": "e4a57199",
   "metadata": {},
   "outputs": [],
   "source": [
    "df_y=df[\"verified\"]"
   ]
  },
  {
   "cell_type": "code",
   "execution_count": 14,
   "id": "a54bc793",
   "metadata": {},
   "outputs": [],
   "source": [
    "le=LabelEncoder()"
   ]
  },
  {
   "cell_type": "code",
   "execution_count": 15,
   "id": "9d9febc3",
   "metadata": {},
   "outputs": [],
   "source": [
    "df_y_1=pd.DataFrame(df_y)"
   ]
  },
  {
   "cell_type": "code",
   "execution_count": 16,
   "id": "ec07ec82",
   "metadata": {},
   "outputs": [],
   "source": [
    "df_y_enc=df_y_1.apply(le.fit_transform)"
   ]
  },
  {
   "cell_type": "code",
   "execution_count": 17,
   "id": "305093dc",
   "metadata": {},
   "outputs": [
    {
     "data": {
      "text/html": [
       "<div>\n",
       "<style scoped>\n",
       "    .dataframe tbody tr th:only-of-type {\n",
       "        vertical-align: middle;\n",
       "    }\n",
       "\n",
       "    .dataframe tbody tr th {\n",
       "        vertical-align: top;\n",
       "    }\n",
       "\n",
       "    .dataframe thead th {\n",
       "        text-align: right;\n",
       "    }\n",
       "</style>\n",
       "<table border=\"1\" class=\"dataframe\">\n",
       "  <thead>\n",
       "    <tr style=\"text-align: right;\">\n",
       "      <th></th>\n",
       "      <th>verified</th>\n",
       "    </tr>\n",
       "  </thead>\n",
       "  <tbody>\n",
       "    <tr>\n",
       "      <th>0</th>\n",
       "      <td>1</td>\n",
       "    </tr>\n",
       "    <tr>\n",
       "      <th>1</th>\n",
       "      <td>1</td>\n",
       "    </tr>\n",
       "    <tr>\n",
       "      <th>2</th>\n",
       "      <td>1</td>\n",
       "    </tr>\n",
       "    <tr>\n",
       "      <th>3</th>\n",
       "      <td>1</td>\n",
       "    </tr>\n",
       "    <tr>\n",
       "      <th>4</th>\n",
       "      <td>0</td>\n",
       "    </tr>\n",
       "  </tbody>\n",
       "</table>\n",
       "</div>"
      ],
      "text/plain": [
       "   verified\n",
       "0         1\n",
       "1         1\n",
       "2         1\n",
       "3         1\n",
       "4         0"
      ]
     },
     "execution_count": 17,
     "metadata": {},
     "output_type": "execute_result"
    }
   ],
   "source": [
    "df_y_enc.head(5)"
   ]
  },
  {
   "cell_type": "markdown",
   "id": "e703fb3e",
   "metadata": {},
   "source": [
    "# Splitting the data into Train and Test data"
   ]
  },
  {
   "cell_type": "code",
   "execution_count": 18,
   "id": "243c95fa",
   "metadata": {},
   "outputs": [],
   "source": [
    "X_Train,X_Test,Y_Train,Y_Test = train_test_split(dense,df_y_enc,test_size=0.3,random_state=45,stratify=df_y_enc)\n"
   ]
  },
  {
   "cell_type": "markdown",
   "id": "45a46882",
   "metadata": {},
   "source": [
    "# Model Building"
   ]
  },
  {
   "cell_type": "code",
   "execution_count": 19,
   "id": "939414d4",
   "metadata": {},
   "outputs": [
    {
     "name": "stderr",
     "output_type": "stream",
     "text": [
      "C:\\Users\\lavanya\\AppData\\Local\\Temp\\ipykernel_25844\\2880767766.py:2: DataConversionWarning: A column-vector y was passed when a 1d array was expected. Please change the shape of y to (n_samples,), for example using ravel().\n",
      "  RFC.fit(X_Train, Y_Train)\n"
     ]
    },
    {
     "name": "stdout",
     "output_type": "stream",
     "text": [
      "Accuracy of Training data is: 1.00\n",
      "[[4229    3]\n",
      " [   0 2768]]\n",
      "Classification Report:\n",
      "              precision    recall  f1-score   support\n",
      "\n",
      "           0       1.00      1.00      1.00      4232\n",
      "           1       1.00      1.00      1.00      2768\n",
      "\n",
      "    accuracy                           1.00      7000\n",
      "   macro avg       1.00      1.00      1.00      7000\n",
      "weighted avg       1.00      1.00      1.00      7000\n",
      "\n",
      "Accuracy of Test data is: 0.78\n",
      "[[1626  188]\n",
      " [ 466  720]]\n",
      "Classification Report:\n",
      "              precision    recall  f1-score   support\n",
      "\n",
      "           0       0.78      0.90      0.83      1814\n",
      "           1       0.79      0.61      0.69      1186\n",
      "\n",
      "    accuracy                           0.78      3000\n",
      "   macro avg       0.79      0.75      0.76      3000\n",
      "weighted avg       0.78      0.78      0.78      3000\n",
      "\n"
     ]
    }
   ],
   "source": [
    "RFC = RandomForestClassifier(random_state=45,n_estimators=1000)\n",
    "RFC.fit(X_Train, Y_Train)\n",
    "\n",
    "Y_pred_Train=RFC.predict(X_Train)\n",
    "accuracy_train = accuracy_score(Y_Train, Y_pred_Train)\n",
    "print(f\"Accuracy of Training data is: {accuracy_train:.2f}\")\n",
    "\n",
    "print(confusion_matrix(Y_Train,Y_pred_Train))\n",
    "\n",
    "# Generate a classification report\n",
    "report = classification_report(Y_Train, Y_pred_Train)\n",
    "print(f\"Classification Report:\\n{report}\")\n",
    "\n",
    "\n",
    "\n",
    "Y_pred_Test=RFC.predict(X_Test)\n",
    "accuracy_test = accuracy_score(Y_Test, Y_pred_Test)\n",
    "print(f\"Accuracy of Test data is: {accuracy_test:.2f}\")\n",
    "\n",
    "print(confusion_matrix(Y_Test,Y_pred_Test))\n",
    "\n",
    "# Generate a classification report\n",
    "report = classification_report(Y_Test, Y_pred_Test)\n",
    "print(f\"Classification Report:\\n{report}\")"
   ]
  },
  {
   "cell_type": "code",
   "execution_count": 20,
   "id": "025f0606",
   "metadata": {},
   "outputs": [
    {
     "name": "stderr",
     "output_type": "stream",
     "text": [
      "C:\\Users\\lavanya\\anaconda3\\envs\\py39_with_tf_cpu\\lib\\site-packages\\sklearn\\utils\\validation.py:1143: DataConversionWarning: A column-vector y was passed when a 1d array was expected. Please change the shape of y to (n_samples, ), for example using ravel().\n",
      "  y = column_or_1d(y, warn=True)\n"
     ]
    },
    {
     "name": "stdout",
     "output_type": "stream",
     "text": [
      "Accuracy of Test data is: 0.69\n",
      "[[1777   37]\n",
      " [ 901  285]]\n",
      "Classification Report:\n",
      "              precision    recall  f1-score   support\n",
      "\n",
      "           0       0.66      0.98      0.79      1814\n",
      "           1       0.89      0.24      0.38      1186\n",
      "\n",
      "    accuracy                           0.69      3000\n",
      "   macro avg       0.77      0.61      0.58      3000\n",
      "weighted avg       0.75      0.69      0.63      3000\n",
      "\n"
     ]
    }
   ],
   "source": [
    "MNB = MultinomialNB()\n",
    "MNB.fit(X_Train, Y_Train)\n",
    "Y_pred_Test=MNB.predict(X_Test)\n",
    "accuracy_test = accuracy_score(Y_Test, Y_pred_Test)\n",
    "print(f\"Accuracy of Test data is: {accuracy_test:.2f}\")\n",
    "\n",
    "print(confusion_matrix(Y_Test,Y_pred_Test))\n",
    "\n",
    "# Generate a classification report\n",
    "report = classification_report(Y_Test, Y_pred_Test)\n",
    "print(f\"Classification Report:\\n{report}\")"
   ]
  },
  {
   "cell_type": "code",
   "execution_count": 23,
   "id": "13ae1365",
   "metadata": {},
   "outputs": [
    {
     "name": "stderr",
     "output_type": "stream",
     "text": [
      "C:\\Users\\lavanya\\anaconda3\\envs\\py39_with_tf_cpu\\lib\\site-packages\\sklearn\\ensemble\\_gb.py:437: DataConversionWarning: A column-vector y was passed when a 1d array was expected. Please change the shape of y to (n_samples, ), for example using ravel().\n",
      "  y = column_or_1d(y, warn=True)\n"
     ]
    },
    {
     "name": "stdout",
     "output_type": "stream",
     "text": [
      "Accuracy of Test data is: 0.77\n",
      "[[1592  222]\n",
      " [ 470  716]]\n",
      "Classification Report:\n",
      "              precision    recall  f1-score   support\n",
      "\n",
      "           0       0.77      0.88      0.82      1814\n",
      "           1       0.76      0.60      0.67      1186\n",
      "\n",
      "    accuracy                           0.77      3000\n",
      "   macro avg       0.77      0.74      0.75      3000\n",
      "weighted avg       0.77      0.77      0.76      3000\n",
      "\n"
     ]
    }
   ],
   "source": [
    "modelgbc = GradientBoostingClassifier(random_state=45,n_estimators=100)\n",
    "modelgbc.fit(X_Train, Y_Train)\n",
    "Y_pred_Test=modelgbc.predict(X_Test)\n",
    "accuracy_test = accuracy_score(Y_Test, Y_pred_Test)\n",
    "print(f\"Accuracy of Test data is: {accuracy_test:.2f}\")\n",
    "\n",
    "print(confusion_matrix(Y_Test,Y_pred_Test))\n",
    "\n",
    "# Generate a classification report\n",
    "report = classification_report(Y_Test, Y_pred_Test)\n",
    "print(f\"Classification Report:\\n{report}\")"
   ]
  },
  {
   "cell_type": "code",
   "execution_count": null,
   "id": "1e64e815",
   "metadata": {},
   "outputs": [],
   "source": []
  }
 ],
 "metadata": {
  "kernelspec": {
   "display_name": "Python 3 (ipykernel)",
   "language": "python",
   "name": "python3"
  },
  "language_info": {
   "codemirror_mode": {
    "name": "ipython",
    "version": 3
   },
   "file_extension": ".py",
   "mimetype": "text/x-python",
   "name": "python",
   "nbconvert_exporter": "python",
   "pygments_lexer": "ipython3",
   "version": "3.9.16"
  }
 },
 "nbformat": 4,
 "nbformat_minor": 5
}
